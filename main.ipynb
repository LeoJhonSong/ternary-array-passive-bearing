{
 "cells": [
  {
   "cell_type": "code",
   "execution_count": 10,
   "metadata": {},
   "outputs": [],
   "source": [
    "import numpy as np\n",
    "from numpy import pi\n",
    "from numpy.linalg import norm\n",
    "from matplotlib import pyplot as plt\n",
    "from scipy import signal\n",
    "from scipy.ndimage import gaussian_filter\n",
    "\n",
    "import simulation\n",
    "from algorithm import *"
   ]
  },
  {
   "cell_type": "markdown",
   "metadata": {},
   "source": [
    "## 仿真实验\n"
   ]
  },
  {
   "cell_type": "markdown",
   "metadata": {},
   "source": [
    "### 声场仿真"
   ]
  },
  {
   "cell_type": "markdown",
   "metadata": {},
   "source": [
    "设置参数\n"
   ]
  },
  {
   "cell_type": "code",
   "execution_count": 11,
   "metadata": {},
   "outputs": [],
   "source": [
    "f = 37500  # 声源频率\n",
    "T = 1  # 采样时长\n",
    "r = 300  # 距离\n",
    "theta = np.deg2rad(60)  # 角度\n",
    "\n",
    "d = 0.5\n",
    "K = 0.6 / d\n",
    "c = 1500  # 声速\n",
    "fs = 500e3  # 采样频率500k"
   ]
  },
  {
   "cell_type": "markdown",
   "metadata": {},
   "source": [
    "#### 几何模型\n",
    "\n",
    "- 阵元1, 2, 3坐标分别为(d1, 0), (d2, 0), (d3, 0), 其中阵元1, 2在x轴负半轴.\n",
    "- theta为声源S的方位角 (极坐标下角度)"
   ]
  },
  {
   "cell_type": "code",
   "execution_count": 12,
   "metadata": {},
   "outputs": [],
   "source": [
    "d1, d2, d3 = -(K + 1) * d / 2, -(K - 1) * d / 2, (K + 1) * d / 2\n",
    "S = np.array([r * np.cos(theta), r * np.sin(theta)])\n",
    "\n",
    "r1 = float(norm(S - [d1, 0]))\n",
    "r2 = float(norm(S - [d2, 0]))\n",
    "r3 = float(norm(S - [d3, 0]))\n",
    "\n",
    "# 真实时延\n",
    "t12 = (r1 - r2) / c\n",
    "t23 = (r2 - r3) / c"
   ]
  },
  {
   "cell_type": "markdown",
   "metadata": {},
   "source": [
    "#### 生成各阵元电信号AD采样后信号"
   ]
  },
  {
   "cell_type": "code",
   "execution_count": 13,
   "metadata": {},
   "outputs": [],
   "source": [
    "# 三阵元处采样信号序列 # TODO: 改成用同一个函数生成, 包含阵元的坐标, 生成信号矩阵\n",
    "weights = [2, 2]\n",
    "x1 = simulation.sig_gen(c, f, r1, fs, T, weights, 0)\n",
    "x2 = simulation.sig_gen(c, f, r2, fs, T, weights, 1000)\n",
    "x3 = simulation.sig_gen(c, f, r3, fs, T, weights, 1000000)"
   ]
  },
  {
   "cell_type": "markdown",
   "metadata": {},
   "source": [
    "##### 信号图像"
   ]
  },
  {
   "cell_type": "code",
   "execution_count": 14,
   "metadata": {},
   "outputs": [],
   "source": [
    "# plt.plot(x1)\n",
    "# plt.plot(x2)\n",
    "# plt.plot(x3)\n",
    "# plt.show()"
   ]
  },
  {
   "cell_type": "markdown",
   "metadata": {},
   "source": [
    "### 定位"
   ]
  },
  {
   "cell_type": "markdown",
   "metadata": {},
   "source": [
    "#### 时延估计"
   ]
  },
  {
   "cell_type": "code",
   "execution_count": 15,
   "metadata": {},
   "outputs": [],
   "source": [
    "period, T_on = 1, 10e-3\n",
    "\n",
    "tau12_hat = chirp_delay_estimation(x1, x2, fs, f, period, T_on, 3)\n",
    "tau23_hat = chirp_delay_estimation(x2, x3, fs, f, period, T_on, 3)"
   ]
  },
  {
   "cell_type": "code",
   "execution_count": 16,
   "metadata": {},
   "outputs": [],
   "source": [
    "phi12_hat, phi23_hat = tau12_hat * f, tau23_hat * f"
   ]
  },
  {
   "cell_type": "code",
   "execution_count": 17,
   "metadata": {},
   "outputs": [
    {
     "name": "stdout",
     "output_type": "stream",
     "text": [
      "真实时延差tau12: \t0.00016691643581710498\n",
      "相关时延差tau12': \t0.0001673333333333249\n",
      "差异: 0.25%\n",
      "真实时延差tau23: \t0.00019974976869730198\n",
      "相关时延差tau23': \t0.00020000000000000573\n",
      "差异: 0.13%\n"
     ]
    }
   ],
   "source": [
    "print(f'真实时延差tau12: \\t{t12}\\n相关时延差tau12\\': \\t{tau12_hat}\\n差异: {np.abs(t12 - tau12_hat) / t12 * 100:.2f}%')\n",
    "print(f'真实时延差tau23: \\t{t23}\\n相关时延差tau23\\': \\t{tau23_hat}\\n差异: {np.abs(t23 - tau23_hat) / t23 * 100:.2f}%')"
   ]
  },
  {
   "cell_type": "markdown",
   "metadata": {},
   "source": [
    "#### 解算方位"
   ]
  },
  {
   "cell_type": "code",
   "execution_count": 30,
   "metadata": {},
   "outputs": [
    {
     "name": "stdout",
     "output_type": "stream",
     "text": [
      "----真实----\n",
      "r: 300.000, theta: 60.000\n",
      "----远场----\n",
      "r: 206.000, theta: 59.940\n",
      "----近场----\n",
      "r: 206.025, theta: 59.916\n",
      "方位估计绝对误差: \t0.084度\n",
      "方位估计相对误差: \t0.141%\n"
     ]
    }
   ],
   "source": [
    "r_far, theta_far = far_locate(tau12_hat, tau23_hat, c, K, d)\n",
    "r_near, theta_near = near_locate(tau12_hat, tau23_hat, c, K, d)\n",
    "print(f'----真实----\\nr: {r:.3f}, theta: {np.rad2deg(theta):.3f}')\n",
    "print(f'----远场----\\nr: {r_far:.3f}, theta: {np.rad2deg(theta_far):.3f}')\n",
    "print(f'----近场----\\nr: {r_near:.3f}, theta: {np.rad2deg(theta_near):.3f}\\n方位估计绝对误差: \\t{np.rad2deg(theta - theta_near):.3f}度\\n方位估计相对误差: \\t{(theta - theta_near)/theta * 100:.3f}%')"
   ]
  }
 ],
 "metadata": {
  "kernelspec": {
   "display_name": "Python 3 (ipykernel)",
   "language": "python",
   "name": "python3"
  },
  "language_info": {
   "codemirror_mode": {
    "name": "ipython",
    "version": 3
   },
   "file_extension": ".py",
   "mimetype": "text/x-python",
   "name": "python",
   "nbconvert_exporter": "python",
   "pygments_lexer": "ipython3",
   "version": "3.11.5"
  }
 },
 "nbformat": 4,
 "nbformat_minor": 4
}
