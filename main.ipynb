{
 "cells": [
  {
   "cell_type": "code",
   "execution_count": 22,
   "metadata": {},
   "outputs": [],
   "source": [
    "import numpy as np\n",
    "from matplotlib import pyplot as plt\n",
    "from scipy import signal\n",
    "\n",
    "from algorithm import *\n",
    "from entity import CW_Func_Handler, CW_Source, Three_Elements_Array, Snapshot_Generator\n",
    "from utils import deg_pol2cart, analysis"
   ]
  },
  {
   "cell_type": "markdown",
   "metadata": {},
   "source": [
    "## 仿真实验\n"
   ]
  },
  {
   "cell_type": "markdown",
   "metadata": {},
   "source": [
    "### 声场仿真"
   ]
  },
  {
   "cell_type": "markdown",
   "metadata": {},
   "source": [
    "几何模型:\n",
    "- 以三元阵中心为原点, 其中阵元1在x轴负半轴\n",
    "- 声源S角度为角度制下极坐标角度\n",
    "\n",
    "运动模型:\n",
    "- 声源S静止\n",
    "- 三元阵以相对于三元阵初始坐标轴的速度运动"
   ]
  },
  {
   "cell_type": "code",
   "execution_count": 23,
   "metadata": {},
   "outputs": [],
   "source": [
    "fc = 37500  # 声源频率\n",
    "sample_interval = 1  # 采样时长\n",
    "fs = 8 * fc  # 倍频采样频率\n",
    "# fs = 500000  # 500k采样率\n",
    "\n",
    "vel_angle = 90\n",
    "speed = 1\n",
    "r = 1000\n",
    "angle = 70\n",
    "\n",
    "velocity = deg_pol2cart(speed, vel_angle)\n",
    "\n",
    "target_sig = CW_Func_Handler(\n",
    "    f=fc,  # 声源频率\n",
    "    T=1,  # Cw信号周期\n",
    "    T_on=10e-3,  # Cw信号脉宽\n",
    ")\n",
    "snapshot_generator = Snapshot_Generator(\n",
    "    CW_Source(\n",
    "    signal_func_callback=target_sig,\n",
    "    r=r,  # 声源距离\n",
    "    angle=angle  # 声源角度\n",
    "),\n",
    "    Three_Elements_Array(d=1, K=1),\n",
    "    c=1500  # 声速\n",
    ")\n",
    "\n",
    "# snapshot_generator.array.set_noise_params(0.01, 0.01, 0.01)\n",
    "# snapshot_generator.set_ideal()"
   ]
  },
  {
   "cell_type": "markdown",
   "metadata": {},
   "source": [
    "#### 生成各阵元电信号AD采样后信号"
   ]
  },
  {
   "cell_type": "code",
   "execution_count": 24,
   "metadata": {},
   "outputs": [],
   "source": [
    "t = np.arange(0, sample_interval, 1 / fs)\n",
    "x, r_real, angle_real = snapshot_generator(t, velocity)"
   ]
  },
  {
   "cell_type": "code",
   "execution_count": 25,
   "metadata": {},
   "outputs": [],
   "source": [
    "import soundfile as sf\n",
    "\n",
    "x0 = x[0].T\n",
    "x0 = x0 / np.max(np.abs(x0))  # 似乎1被认为是最大赋值\n",
    "sf.write(f'fc_{fc}-fs_factor_8.flac', x0, fs)"
   ]
  },
  {
   "cell_type": "markdown",
   "metadata": {},
   "source": [
    "##### 信号图像"
   ]
  },
  {
   "cell_type": "code",
   "execution_count": 4,
   "metadata": {},
   "outputs": [
    {
     "data": {
      "image/png": "[encoded data removed]",
      "text/plain": [
       "<Figure size 640x480 with 1 Axes>"
      ]
     },
     "metadata": {},
     "output_type": "display_data"
    }
   ],
   "source": [
    "# %matplotlib qt\n",
    "\n",
    "sos = signal.butter(3, (target_sig.f - 50, target_sig.f + 50), 'bandpass', fs=fs, output='sos')\n",
    "pow_num = 2\n",
    "x_filtered = [signal.sosfilt(sos, x_i)**pow_num for x_i in x]\n",
    "peaks = [signal.find_peaks(x_i, height=0, distance=8)[0] for x_i in x_filtered]\n",
    "\n",
    "i = 0\n",
    "# plt.plot(t, x[i], label=f'x{i}')\n",
    "# plt.plot(t, x_filtered[i], label=f'x{i} filtered')\n",
    "plt.plot(t[peaks[i]], x_filtered[i][peaks[i]], label=f'x{i} peak')\n",
    "plt.legend()\n",
    "plt.show()"
   ]
  },
  {
   "cell_type": "markdown",
   "metadata": {},
   "source": [
    "### 定位"
   ]
  },
  {
   "cell_type": "markdown",
   "metadata": {},
   "source": [
    "#### 时延估计"
   ]
  },
  {
   "cell_type": "code",
   "execution_count": 5,
   "metadata": {},
   "outputs": [],
   "source": [
    "sos = signal.butter(3, (target_sig.f - 50, target_sig.f + 50), 'bandpass', fs=fs, output='sos')\n",
    "pow_num = 2\n",
    "x = np.array([signal.sosfilt(sos, x_i)**pow_num for x_i in x])\n",
    "tau12_hat = time_delay_estimation(x[0], x[1], target_sig.f, fs, 'xcorr')\n",
    "tau23_hat = time_delay_estimation(x[1], x[2], target_sig.f, fs, 'xcorr')"
   ]
  },
  {
   "cell_type": "code",
   "execution_count": 6,
   "metadata": {},
   "outputs": [
    {
     "name": "stdout",
     "output_type": "stream",
     "text": [
      "CPU times: user 3 µs, sys: 1 µs, total: 4 µs\n",
      "Wall time: 7.39 µs\n"
     ]
    }
   ],
   "source": [
    "%%time\n",
    "# x1, x2, x3 = x\n",
    "# # FIXME: 不知道CW初相位\n",
    "# tau12_hat = cw_delay_estimation(x1, x2, fs, target_sig, 1)\n",
    "# tau23_hat = cw_delay_estimation(x2, x3, fs, target_sig, 1)"
   ]
  },
  {
   "cell_type": "markdown",
   "metadata": {},
   "source": [
    "#### 解算方位"
   ]
  },
  {
   "cell_type": "code",
   "execution_count": 7,
   "metadata": {},
   "outputs": [],
   "source": [
    "# TODO: 怎么判别待定\n",
    "choice = None\n",
    "\n",
    "tau_hat = np.array([tau12_hat, tau23_hat])\n",
    "valid = np.abs(tau_hat) < snapshot_generator.array.d * np.array([1, snapshot_generator.array.K]) / snapshot_generator.c\n",
    "\n",
    "if np.sum(valid) == 2:\n",
    "    # 都有效\n",
    "    if np.sign(tau12_hat) != np.sign(tau23_hat):\n",
    "        choice = 2  # 90度\n",
    "    else:\n",
    "        choice = 0 if abs(tau12_hat) < abs(tau23_hat) else 1  # 选绝对值小的\n",
    "elif np.sum(valid) == 1:\n",
    "    choice = np.where(valid)[0][0]  # 用有效的那个\n",
    "# else是都无效, 弃用当前数据"
   ]
  },
  {
   "cell_type": "code",
   "execution_count": 8,
   "metadata": {},
   "outputs": [],
   "source": [
    "r_far, angle_far = far_locate(tau12_hat, tau23_hat, snapshot_generator.c, snapshot_generator.array.K, snapshot_generator.array.d)\n",
    "# r_near, angle_near = near_locate(tau12_hat, tau23_hat, sig.c, sig.K, sig.d)"
   ]
  },
  {
   "cell_type": "code",
   "execution_count": 9,
   "metadata": {},
   "outputs": [
    {
     "data": {
      "text/html": [
       "<div>\n",
       "<style scoped>\n",
       "    .dataframe tbody tr th:only-of-type {\n",
       "        vertical-align: middle;\n",
       "    }\n",
       "\n",
       "    .dataframe tbody tr th {\n",
       "        vertical-align: top;\n",
       "    }\n",
       "\n",
       "    .dataframe thead th {\n",
       "        text-align: right;\n",
       "    }\n",
       "</style>\n",
       "<table border=\"1\" class=\"dataframe\">\n",
       "  <thead>\n",
       "    <tr style=\"text-align: right;\">\n",
       "      <th></th>\n",
       "      <th>angle</th>\n",
       "      <th>tau12</th>\n",
       "      <th>tau23</th>\n",
       "      <th>r</th>\n",
       "    </tr>\n",
       "  </thead>\n",
       "  <tbody>\n",
       "    <tr>\n",
       "      <th>real</th>\n",
       "      <td>70.000000</td>\n",
       "      <td>0.000228</td>\n",
       "      <td>0.000228</td>\n",
       "      <td>1000.000000</td>\n",
       "    </tr>\n",
       "    <tr>\n",
       "      <th>estimation</th>\n",
       "      <td>70.001228</td>\n",
       "      <td>0.000348</td>\n",
       "      <td>0.000108</td>\n",
       "      <td>2.452878</td>\n",
       "    </tr>\n",
       "    <tr>\n",
       "      <th>abs_error</th>\n",
       "      <td>0.001228</td>\n",
       "      <td>0.000120</td>\n",
       "      <td>-0.000120</td>\n",
       "      <td>-997.547122</td>\n",
       "    </tr>\n",
       "    <tr>\n",
       "      <th>rel_error</th>\n",
       "      <td>-0.000061</td>\n",
       "      <td>0.524229</td>\n",
       "      <td>-0.525695</td>\n",
       "      <td>-0.997547</td>\n",
       "    </tr>\n",
       "  </tbody>\n",
       "</table>\n",
       "</div>"
      ],
      "text/plain": [
       "                angle     tau12     tau23            r\n",
       "real        70.000000  0.000228  0.000228  1000.000000\n",
       "estimation  70.001228  0.000348  0.000108     2.452878\n",
       "abs_error    0.001228  0.000120 -0.000120  -997.547122\n",
       "rel_error   -0.000061  0.524229 -0.525695    -0.997547"
      ]
     },
     "execution_count": 9,
     "metadata": {},
     "output_type": "execute_result"
    }
   ],
   "source": [
    "analysis(snapshot_generator, tau12_hat, tau23_hat, r_far, angle_far, vel_angle)"
   ]
  }
 ],
 "metadata": {
  "kernelspec": {
   "display_name": "Python 3 (ipykernel)",
   "language": "python",
   "name": "python3"
  },
  "language_info": {
   "codemirror_mode": {
    "name": "ipython",
    "version": 3
   },
   "file_extension": ".py",
   "mimetype": "text/x-python",
   "name": "python",
   "nbconvert_exporter": "python",
   "pygments_lexer": "ipython3",
   "version": "3.11.8"
  }
 },
 "nbformat": 4,
 "nbformat_minor": 4
}
