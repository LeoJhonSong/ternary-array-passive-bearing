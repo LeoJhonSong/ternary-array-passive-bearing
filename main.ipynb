{
 "cells": [
  {
   "cell_type": "code",
   "execution_count": 197,
   "metadata": {},
   "outputs": [],
   "source": [
    "import numpy as np\n",
    "from numpy.linalg import norm\n",
    "from matplotlib import pyplot as plt\n",
    "\n",
    "from simulation.signal import Array_Signals\n",
    "from algorithm import *"
   ]
  },
  {
   "cell_type": "markdown",
   "metadata": {},
   "source": [
    "## 仿真实验\n"
   ]
  },
  {
   "cell_type": "markdown",
   "metadata": {},
   "source": [
    "### 声场仿真"
   ]
  },
  {
   "cell_type": "markdown",
   "metadata": {},
   "source": [
    "设置参数\n"
   ]
  },
  {
   "cell_type": "code",
   "execution_count": 198,
   "metadata": {},
   "outputs": [],
   "source": [
    "f = 37500  # 声源频率\n",
    "sample_interval = 1  # 采样时长\n",
    "r = 100  # 距离\n",
    "theta = np.deg2rad(60)  # 角度\n",
    "\n",
    "d = 0.5\n",
    "K = 0.5 / d\n",
    "T = 1  # Cw信号周期\n",
    "T_on = 10e-3  # Cw信号脉宽\n",
    "c = 1500  # 声速\n",
    "fs = 500e3  # 采样频率500k"
   ]
  },
  {
   "cell_type": "markdown",
   "metadata": {},
   "source": [
    "#### 几何模型\n",
    "\n",
    "- 阵元1, 2, 3坐标分别为(d1, 0), (d2, 0), (d3, 0), 其中阵元1, 2在x轴负半轴.\n",
    "- theta为声源S的方位角 (极坐标下角度)"
   ]
  },
  {
   "cell_type": "code",
   "execution_count": 199,
   "metadata": {},
   "outputs": [],
   "source": [
    "d1, d2, d3 = -(K + 1) * d / 2, -(K - 1) * d / 2, (K + 1) * d / 2\n",
    "S = np.array([r * np.cos(theta), r * np.sin(theta)])\n",
    "\n",
    "r1 = float(norm(S - [d1, 0]))\n",
    "r2 = float(norm(S - [d2, 0]))\n",
    "r3 = float(norm(S - [d3, 0]))\n",
    "\n",
    "# 真实时延\n",
    "t12 = (r1 - r2) / c\n",
    "t23 = (r2 - r3) / c"
   ]
  },
  {
   "cell_type": "markdown",
   "metadata": {},
   "source": [
    "#### 生成各阵元电信号AD采样后信号"
   ]
  },
  {
   "cell_type": "code",
   "execution_count": 200,
   "metadata": {},
   "outputs": [],
   "source": [
    "t = np.arange(0, sample_interval, 1 / fs)\n",
    "sig = Array_Signals(c, f, T_on, T, S, (d1, d2, d3))\n",
    "sig.set_params(1, 1, 1, 2, 1e-6)\n",
    "sig.init_rng(1)\n",
    "x = sig.next(t, (0, 1))"
   ]
  },
  {
   "cell_type": "markdown",
   "metadata": {},
   "source": [
    "##### 信号图像"
   ]
  },
  {
   "cell_type": "code",
   "execution_count": 201,
   "metadata": {},
   "outputs": [],
   "source": [
    "# plt.plot(t, x[0])\n",
    "# plt.plot(t, x[1])\n",
    "# plt.plot(t, x[2])\n",
    "# plt.show()"
   ]
  },
  {
   "cell_type": "markdown",
   "metadata": {},
   "source": [
    "### 定位"
   ]
  },
  {
   "cell_type": "markdown",
   "metadata": {},
   "source": [
    "#### 时延估计"
   ]
  },
  {
   "cell_type": "code",
   "execution_count": 202,
   "metadata": {},
   "outputs": [],
   "source": [
    "x1, x2, x3 = x[:, -int(fs):]\n",
    "# FIXME: 真的有必要插值吗\n",
    "tau12_hat = cw_delay_estimation(x1, x2, fs, f, T, T_on, 1)\n",
    "tau23_hat = cw_delay_estimation(x2, x3, fs, f, T, T_on, 1)"
   ]
  },
  {
   "cell_type": "code",
   "execution_count": 203,
   "metadata": {},
   "outputs": [
    {
     "name": "stdout",
     "output_type": "stream",
     "text": [
      "真实时延差tau12: \t0.00016729010515537842\n",
      "相关时延差tau12': \t0.00011400000000000299\n",
      "差异: 31.85%\n",
      "真实时延差tau23: \t0.00016604010320237232\n",
      "相关时延差tau23': \t0.00016599999999999948\n",
      "差异: 0.02%\n"
     ]
    }
   ],
   "source": [
    "print(f'真实时延差tau12: \\t{t12}\\n相关时延差tau12\\': \\t{tau12_hat}\\n差异: {np.abs(t12 - tau12_hat) / t12 * 100:.2f}%')\n",
    "print(f'真实时延差tau23: \\t{t23}\\n相关时延差tau23\\': \\t{tau23_hat}\\n差异: {np.abs(t23 - tau23_hat) / t23 * 100:.2f}%')"
   ]
  },
  {
   "cell_type": "markdown",
   "metadata": {},
   "source": [
    "#### 解算方位"
   ]
  },
  {
   "cell_type": "code",
   "execution_count": 204,
   "metadata": {},
   "outputs": [
    {
     "name": "stdout",
     "output_type": "stream",
     "text": [
      "----真实----\n",
      "r: 100.000, theta: 60.000\n",
      "----远场----\n",
      "r: -2.640, theta: 65.165\n",
      "----近场----\n",
      "r: 2.620, theta: 64.770\n",
      "方位估计绝对误差: \t-4.770度\n",
      "方位估计相对误差: \t-7.950%\n"
     ]
    }
   ],
   "source": [
    "r_far, theta_far = far_locate(tau12_hat, tau23_hat, c, K, d)\n",
    "r_near, theta_near = near_locate(tau12_hat, tau23_hat, c, K, d)\n",
    "print(f'----真实----\\nr: {r:.3f}, theta: {np.rad2deg(theta):.3f}')\n",
    "print(f'----远场----\\nr: {r_far:.3f}, theta: {np.rad2deg(theta_far):.3f}')\n",
    "print(f'----近场----\\nr: {r_near:.3f}, theta: {np.rad2deg(theta_near):.3f}\\n方位估计绝对误差: \\t{np.rad2deg(theta - theta_near):.3f}度\\n方位估计相对误差: \\t{(theta - theta_near)/theta * 100:.3f}%')"
   ]
  }
 ],
 "metadata": {
  "kernelspec": {
   "display_name": "Python 3 (ipykernel)",
   "language": "python",
   "name": "python3"
  },
  "language_info": {
   "codemirror_mode": {
    "name": "ipython",
    "version": 3
   },
   "file_extension": ".py",
   "mimetype": "text/x-python",
   "name": "python",
   "nbconvert_exporter": "python",
   "pygments_lexer": "ipython3",
   "version": "3.11.5"
  }
 },
 "nbformat": 4,
 "nbformat_minor": 4
}
