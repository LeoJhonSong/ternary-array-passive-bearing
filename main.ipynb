{
 "cells": [
  {
   "cell_type": "code",
   "execution_count": 1,
   "metadata": {
    "metadata": {}
   },
   "outputs": [],
   "source": [
    "import numpy as np\n",
    "from matplotlib import pyplot as plt\n",
    "from scipy import signal\n",
    "\n",
    "import feature_modules\n",
    "from algorithm import *\n",
    "from entity import Array_Data_Sampler, CW_Func_Handler, CW_Source, Three_Elements_Array\n",
    "from utils import *"
   ]
  },
  {
   "cell_type": "markdown",
   "metadata": {},
   "source": [
    "## 仿真实验\n"
   ]
  },
  {
   "cell_type": "markdown",
   "metadata": {},
   "source": [
    "### 声场仿真"
   ]
  },
  {
   "cell_type": "markdown",
   "metadata": {},
   "source": [
    "几何模型:\n",
    "- 以三元阵中心为原点, 其中阵元1在x轴负半轴\n",
    "- 声源S角度为角度制下极坐标角度\n",
    "\n",
    "运动模型:\n",
    "- 声源S静止\n",
    "- 三元阵以相对于三元阵初始坐标轴的速度运动"
   ]
  },
  {
   "cell_type": "code",
   "execution_count": 2,
   "metadata": {
    "metadata": {}
   },
   "outputs": [],
   "source": [
    "c = 1500\n",
    "fc = 42500  # 声源频率\n",
    "sample_interval = 1  # 采样时长\n",
    "fs = 8 * fc  # 倍频采样频率\n",
    "# fs = 500000  # 500k采样率\n",
    "\n",
    "d = 0.5\n",
    "K = 1\n",
    "\n",
    "vel_angle = 90\n",
    "speed = 1\n",
    "r = 1000\n",
    "angle = 50\n",
    "\n",
    "velocity = deg_pol2cart(speed, vel_angle)\n",
    "\n",
    "target_sig = CW_Func_Handler(\n",
    "    f=fc,  # 声源频率\n",
    "    prf=1,  # Cw信号周期\n",
    "    pulse_width=10e-3,  # Cw信号脉宽\n",
    ")\n",
    "array_data_sampler = Array_Data_Sampler(\n",
    "    CW_Source(\n",
    "    signal_func_callback=target_sig,\n",
    "    r=r,  # 声源距离\n",
    "    angle=angle,  # 声源角度\n",
    "    # seed=1,\n",
    "),\n",
    "    Three_Elements_Array(\n",
    "        d=d,\n",
    "        K=K,\n",
    "        # seed=1000\n",
    "    ),\n",
    "    c=c  # 声速\n",
    ")\n",
    "\n",
    "# array_data_sampler.set_ideal()\n",
    "array_data_sampler.set_SNR(30)\n",
    "# array_data_sampler.set_SNR(20)\n",
    "# array_data_sampler.set_SNR(10)\n",
    "# array_data_sampler.set_SNR(0)\n",
    "# array_data_sampler.set_SNR(-5)\n",
    "# array_data_sampler.set_SNR(-10)\n",
    "# array_data_sampler.set_SNR(-15)\n",
    "# array_data_sampler.set_SNR(-20)"
   ]
  },
  {
   "cell_type": "markdown",
   "metadata": {},
   "source": [
    "以声源加噪声实验来看, 以互谱法判断宽带噪声信号时延无效"
   ]
  },
  {
   "cell_type": "markdown",
   "metadata": {},
   "source": [
    "#### 生成各阵元电信号AD采样后信号"
   ]
  },
  {
   "cell_type": "code",
   "execution_count": 3,
   "metadata": {
    "metadata": {}
   },
   "outputs": [
    {
     "name": "stderr",
     "output_type": "stream",
     "text": [
      "/root/miniconda3/lib/python3.10/site-packages/numba/np/ufunc/parallel.py:371: NumbaWarning: The TBB threading layer requires TBB version 2021 update 6 or later i.e., TBB_INTERFACE_VERSION >= 12060. Found TBB_INTERFACE_VERSION = 12050. The TBB threading layer is disabled.\n",
      "  warnings.warn(problem)\n"
     ]
    }
   ],
   "source": [
    "t = np.arange(0, sample_interval, 1 / fs)\n",
    "x, r_real, angle_real = array_data_sampler(t, velocity)"
   ]
  },
  {
   "cell_type": "markdown",
   "metadata": {},
   "source": [
    "##### 信号图像"
   ]
  },
  {
   "cell_type": "code",
   "execution_count": null,
   "metadata": {},
   "outputs": [],
   "source": [
    "# %matplotlib widget\n",
    "\n",
    "import torch\n",
    "spectrogram_layer = feature_modules.Spectrogram(fs, 8192).to('cuda')\n",
    "cpsd_phase_layer = feature_modules.CPSD_Phase_Spectrogram().to('cuda')\n",
    "phase = cpsd_phase_layer(spectrogram_layer(torch.tensor(x).unsqueeze(0).unsqueeze(0).to('cuda'))).cpu().detach().squeeze().numpy()\n",
    "from matplotlib.colors import Normalize\n",
    "plt.figure(figsize=(10, 5))\n",
    "for i in range(3):\n",
    "    plt.subplot(1, 3, i+1)\n",
    "    plt.imshow(phase[i], aspect='auto', cmap='gray', norm=Normalize(-np.pi, np.pi))"
   ]
  },
  {
   "cell_type": "code",
   "execution_count": 106,
   "metadata": {},
   "outputs": [],
   "source": [
    "# tf_plot(x[0], fs)\n",
    "# rfft_plot(x[0], fs, fc=37.5e3, bandwidth=2e3)"
   ]
  },
  {
   "cell_type": "code",
   "execution_count": 6,
   "metadata": {
    "metadata": {}
   },
   "outputs": [
    {
     "data": {
      "image/png": "[encoded data removed]",
      "text/plain": [
       "<Figure size 1000x300 with 2 Axes>"
      ]
     },
     "metadata": {},
     "output_type": "display_data"
    }
   ],
   "source": [
    "sos = signal.butter(20, (target_sig.f - 1000, target_sig.f + 1000), 'bandpass', fs=fs, output='sos')\n",
    "pow_num = 1\n",
    "x_filtered = [signal.sosfilt(sos, x_i)**pow_num for x_i in x]\n",
    "# rfft_plot(x_filtered[0], fs, fc=37.5e3)\n",
    "tf_plot(x_filtered[0], fs)"
   ]
  },
  {
   "cell_type": "markdown",
   "metadata": {},
   "source": [
    "### 定位"
   ]
  },
  {
   "cell_type": "markdown",
   "metadata": {},
   "source": [
    "#### 时延估计"
   ]
  },
  {
   "cell_type": "code",
   "execution_count": 7,
   "metadata": {
    "metadata": {}
   },
   "outputs": [],
   "source": [
    "x = x_filtered\n",
    "tau12_hat = time_delay_estimation(x[0], x[1], target_sig.f, fs, 'xcorr')\n",
    "tau23_hat = time_delay_estimation(x[1], x[2], target_sig.f, fs, 'xcorr')"
   ]
  },
  {
   "cell_type": "markdown",
   "metadata": {},
   "source": [
    "#### 解算方位"
   ]
  },
  {
   "cell_type": "code",
   "execution_count": 8,
   "metadata": {
    "metadata": {}
   },
   "outputs": [
    {
     "name": "stderr",
     "output_type": "stream",
     "text": [
      "/home/leo/Desktop/ternary-array-passive-bearing/algorithm.py:69: RuntimeWarning: divide by zero encountered in scalar divide\n",
      "  K * (K + 1) * ((d * np.sin(theta)) ** 2)\n"
     ]
    },
    {
     "data": {
      "text/html": [
       "<div>\n",
       "<style scoped>\n",
       "    .dataframe tbody tr th:only-of-type {\n",
       "        vertical-align: middle;\n",
       "    }\n",
       "\n",
       "    .dataframe tbody tr th {\n",
       "        vertical-align: top;\n",
       "    }\n",
       "\n",
       "    .dataframe thead th {\n",
       "        text-align: right;\n",
       "    }\n",
       "</style>\n",
       "<table border=\"1\" class=\"dataframe\">\n",
       "  <thead>\n",
       "    <tr style=\"text-align: right;\">\n",
       "      <th></th>\n",
       "      <th>angle</th>\n",
       "      <th>tau12</th>\n",
       "      <th>tau23</th>\n",
       "      <th>r</th>\n",
       "    </tr>\n",
       "  </thead>\n",
       "  <tbody>\n",
       "    <tr>\n",
       "      <th>real</th>\n",
       "      <td>50.000000</td>\n",
       "      <td>2.143114e-04</td>\n",
       "      <td>2.142136e-04</td>\n",
       "      <td>1000.0</td>\n",
       "    </tr>\n",
       "    <tr>\n",
       "      <th>estimation</th>\n",
       "      <td>49.994799</td>\n",
       "      <td>2.142857e-04</td>\n",
       "      <td>2.142857e-04</td>\n",
       "      <td>inf</td>\n",
       "    </tr>\n",
       "    <tr>\n",
       "      <th>abs_error</th>\n",
       "      <td>-0.005201</td>\n",
       "      <td>-2.570857e-08</td>\n",
       "      <td>7.209545e-08</td>\n",
       "      <td>inf</td>\n",
       "    </tr>\n",
       "    <tr>\n",
       "      <th>rel_error</th>\n",
       "      <td>0.000130</td>\n",
       "      <td>-1.199589e-04</td>\n",
       "      <td>3.365587e-04</td>\n",
       "      <td>inf</td>\n",
       "    </tr>\n",
       "  </tbody>\n",
       "</table>\n",
       "</div>"
      ],
      "text/plain": [
       "                angle         tau12         tau23       r\n",
       "real        50.000000  2.143114e-04  2.142136e-04  1000.0\n",
       "estimation  49.994799  2.142857e-04  2.142857e-04     inf\n",
       "abs_error   -0.005201 -2.570857e-08  7.209545e-08     inf\n",
       "rel_error    0.000130 -1.199589e-04  3.365587e-04     inf"
      ]
     },
     "execution_count": 8,
     "metadata": {},
     "output_type": "execute_result"
    }
   ],
   "source": [
    "r_far, angle_far = far_locate(tau12_hat, tau23_hat, array_data_sampler.c, array_data_sampler.array.K, array_data_sampler.array.d)\n",
    "# r_near, angle_near = near_locate(tau12_hat, tau23_hat, snapshot_generator.c, snapshot_generator.array.K, snapshot_generator.array.d)\n",
    "analysis(array_data_sampler, tau12_hat, tau23_hat, r_far, angle_far, vel_angle)"
   ]
  }
 ],
 "metadata": {
  "kernelspec": {
   "display_name": "Python 3 (ipykernel)",
   "language": "python",
   "name": "python3"
  },
  "language_info": {
   "codemirror_mode": {
    "name": "ipython",
    "version": 3
   },
   "file_extension": ".py",
   "mimetype": "text/x-python",
   "name": "python",
   "nbconvert_exporter": "python",
   "pygments_lexer": "ipython3",
   "version": "3.10.8"
  }
 },
 "nbformat": 4,
 "nbformat_minor": 4
}
