{
 "cells": [
  {
   "cell_type": "code",
   "execution_count": 1,
   "metadata": {},
   "outputs": [],
   "source": [
    "import numpy as np\n",
    "from numpy import pi\n",
    "from numpy.linalg import norm\n",
    "from matplotlib import pyplot as plt\n",
    "from scipy import signal\n",
    "from scipy.ndimage import gaussian_filter\n",
    "\n",
    "import simulation\n",
    "from algorithm import time_delay_estimation, far_locate"
   ]
  },
  {
   "cell_type": "markdown",
   "metadata": {},
   "source": [
    "## 仿真实验\n"
   ]
  },
  {
   "cell_type": "markdown",
   "metadata": {},
   "source": [
    "### 声场仿真"
   ]
  },
  {
   "cell_type": "markdown",
   "metadata": {},
   "source": [
    "设置参数\n"
   ]
  },
  {
   "cell_type": "code",
   "execution_count": 2,
   "metadata": {},
   "outputs": [],
   "source": [
    "f = 37500  # 声源频率\n",
    "T = 1  # 采样时长\n",
    "r = 300  # 距离\n",
    "theta = np.deg2rad(60)  # 角度\n",
    "\n",
    "d = 0.5\n",
    "K = 0.6 / d\n",
    "c = 1500  # 声速\n",
    "fs = 500e3  # 采样频率500k"
   ]
  },
  {
   "cell_type": "markdown",
   "metadata": {},
   "source": [
    "#### 几何模型"
   ]
  },
  {
   "cell_type": "code",
   "execution_count": 3,
   "metadata": {},
   "outputs": [],
   "source": [
    "d1, d2, d3 = (K + 1) * d / 2, (K - 1) * d / 2, (K + 1) * d / 2\n",
    "S = np.array([r * np.cos(theta), r * np.sin(theta)])  # FIXME: 这x该是-, 方位近似解需要重新推导一下\n",
    "\n",
    "r1 = float(norm(S - [-d1, 0]))\n",
    "r2 = float(norm(S - [-d2, 0]))\n",
    "r3 = float(norm(S - [d3, 0]))\n",
    "\n",
    "# 真实时延\n",
    "t12 = (r1 - r2) / c\n",
    "t23 = (r2 - r3) / c"
   ]
  },
  {
   "cell_type": "markdown",
   "metadata": {},
   "source": [
    "#### 生成各阵元电信号AD采样后信号"
   ]
  },
  {
   "cell_type": "code",
   "execution_count": 4,
   "metadata": {},
   "outputs": [],
   "source": [
    "# 三阵元处采样信号序列 # TODO: 改成用同一个函数生成, 包含阵元的坐标, 生成信号矩阵\n",
    "weights = [2, 2]\n",
    "x1 = simulation.sig_gen(c, f, r1, fs, T, weights, 0)\n",
    "x2 = simulation.sig_gen(c, f, r2, fs, T, weights, 1000)\n",
    "x3 = simulation.sig_gen(c, f, r3, fs, T, weights, 1000000)"
   ]
  },
  {
   "cell_type": "markdown",
   "metadata": {},
   "source": [
    "##### 信号图像"
   ]
  },
  {
   "cell_type": "code",
   "execution_count": 5,
   "metadata": {},
   "outputs": [],
   "source": [
    "# plt.plot(x1)\n",
    "# plt.plot(x2)\n",
    "# plt.plot(x3)\n",
    "# plt.show()"
   ]
  },
  {
   "cell_type": "markdown",
   "metadata": {},
   "source": [
    "### 定位"
   ]
  },
  {
   "cell_type": "markdown",
   "metadata": {},
   "source": [
    "#### 时延估计"
   ]
  },
  {
   "cell_type": "code",
   "execution_count": 6,
   "metadata": {},
   "outputs": [],
   "source": [
    "period, T_on = 1, 10e-3\n",
    "t = np.arange(len(x1)) / fs\n",
    "s_ref = np.cos(2 * pi * f * t) * (t % period < T_on)\n",
    "\n",
    "tau1_frac = time_delay_estimation(x1, s_ref, f, fs)\n",
    "tau2_frac = time_delay_estimation(x2, s_ref, f, fs)\n",
    "tau3_frac = time_delay_estimation(x3, s_ref, f, fs)\n",
    "\n",
    "tau12_hat = tau1_frac - tau2_frac\n",
    "tau23_hat = tau2_frac - tau3_frac"
   ]
  },
  {
   "cell_type": "code",
   "execution_count": 7,
   "metadata": {},
   "outputs": [],
   "source": [
    "phi12_hat, phi23_hat = tau12_hat * f, tau23_hat * f"
   ]
  },
  {
   "cell_type": "code",
   "execution_count": 8,
   "metadata": {},
   "outputs": [
    {
     "name": "stdout",
     "output_type": "stream",
     "text": [
      "真实相位差phi12: 6.259366343141437\n",
      "相关相位差phi12': 6.300000000000056\n",
      "差异: 0.65%\n",
      "真实相位差phi23: 7.4906163261488246\n",
      "相关相位差phi23': 8.475000000000149\n",
      "差异: 13.14%\n"
     ]
    }
   ],
   "source": [
    "print(f'真实相位差phi12: {(phi12:=t12*f)}\\n相关相位差phi12\\': {phi12_hat}\\n差异: {np.abs(phi12 - phi12_hat) / phi12 * 100:.2f}%')\n",
    "print(f'真实相位差phi23: {(phi23:=t23*f)}\\n相关相位差phi23\\': {phi23_hat}\\n差异: {np.abs(phi23 - phi23_hat) / phi23 * 100:.2f}%')"
   ]
  },
  {
   "cell_type": "markdown",
   "metadata": {},
   "source": [
    "#### 解算方位"
   ]
  },
  {
   "cell_type": "code",
   "execution_count": 9,
   "metadata": {},
   "outputs": [
    {
     "name": "stdout",
     "output_type": "stream",
     "text": [
      "真实方位角: \t60.0度\n",
      "估计方位角: \t57.50182614664359度\n",
      "绝对误差: \t2.4981738533564126度\n",
      "相对误差: \t4.163623088927347%\n"
     ]
    }
   ],
   "source": [
    "r_e, theta_e = far_locate(phi12_hat / f, phi23_hat / f, c, K, d)\n",
    "\n",
    "# TODO: 解决距离估计因为精度趋近0或inf问题\n",
    "print(f'真实方位角: \\t{theta/pi*180}度\\n估计方位角: \\t{theta_e/pi*180}度\\n绝对误差: \\t{theta/pi*180 - theta_e/pi*180}度\\n相对误差: \\t{(theta - theta_e)/theta * 100}%')\n",
    "# print(algorithm.far_locate(t12, t23, c, K, d))"
   ]
  }
 ],
 "metadata": {
  "kernelspec": {
   "display_name": "Python 3 (ipykernel)",
   "language": "python",
   "name": "python3"
  },
  "language_info": {
   "codemirror_mode": {
    "name": "ipython",
    "version": 3
   },
   "file_extension": ".py",
   "mimetype": "text/x-python",
   "name": "python",
   "nbconvert_exporter": "python",
   "pygments_lexer": "ipython3",
   "version": "3.11.5"
  }
 },
 "nbformat": 4,
 "nbformat_minor": 4
}
