{
 "cells": [
  {
   "cell_type": "code",
   "execution_count": 1,
   "metadata": {},
   "outputs": [],
   "source": [
    "import os\n",
    "\n",
    "import numpy as np\n",
    "import torch\n",
    "from torch.utils.data import Dataset, DataLoader\n",
    "from torch import optim\n",
    "from torch import nn\n",
    "\n",
    "from torchmetrics import Accuracy\n",
    "import torchmetrics\n",
    "from torchkeras import KerasModel\n",
    "\n",
    "from matplotlib import pyplot as plt\n",
    "from scipy import signal\n",
    "\n",
    "from entity import *\n",
    "from utils import deg_pol2cart, analysis"
   ]
  },
  {
   "cell_type": "markdown",
   "metadata": {},
   "source": [
    "## TODO\n",
    "\n",
    "- GAN补充细节, 补充信号波形先验信息\n",
    "- 由输入阵列信号估计初相位 (得分析下实际设备信号特征), 从而应用三元阵时延估计法"
   ]
  },
  {
   "cell_type": "markdown",
   "metadata": {},
   "source": [
    "## 数据准备\n",
    "\n",
    "### 数据生成\n",
    "\n",
    "由于预测是实时的，因此GCC等计算不能在数据集中进行，应作为模型的一层。此处的数据就是原始信号。"
   ]
  },
  {
   "cell_type": "code",
   "execution_count": 2,
   "metadata": {},
   "outputs": [],
   "source": [
    "c = 1500\n",
    "fc = 37500\n",
    "fs_factor = 8\n",
    "fs = fs_factor * fc\n",
    "d = 0.08\n",
    "K = 2.0\n",
    "dist_max = d * (K + 1)\n",
    "maxlag = int(np.ceil(dist_max / c * fs))  # 当前采样频率下最大滞后量\n",
    "sample_interval = 20\n",
    "\n",
    "dataset_path = f'/run/media/leo/HP P900/dataset/fc_{fc}-fs_factor_{fs_factor}-d_{d}-K_{K}'\n",
    "train_path = f'{dataset_path}/train'\n",
    "val_path = f'{dataset_path}/val'"
   ]
  },
  {
   "cell_type": "code",
   "execution_count": 3,
   "metadata": {},
   "outputs": [
    {
     "data": {
      "text/plain": [
       "291"
      ]
     },
     "execution_count": 3,
     "metadata": {},
     "output_type": "execute_result"
    }
   ],
   "source": [
    "(2*maxlag+1)*3"
   ]
  },
  {
   "cell_type": "code",
   "execution_count": 4,
   "metadata": {},
   "outputs": [],
   "source": [
    "# !python sim_data_generator.py --sample_interval 20 --d 0.25 --K 2 --fc 37500 --fs_factor 8 --r 500"
   ]
  },
  {
   "cell_type": "markdown",
   "metadata": {},
   "source": [
    "生成的是3通道，20s的数据，从15度到165度，采样率37500x8 Hz，训练集1600个样本, 测试集400个样本"
   ]
  },
  {
   "cell_type": "code",
   "execution_count": 5,
   "metadata": {},
   "outputs": [],
   "source": [
    "class Xcorr(nn.Module):\n",
    "    def __init__(self, maxlag):\n",
    "        super().__init__()\n",
    "        self.maxlag = maxlag\n",
    "\n",
    "    def forward(self, x):\n",
    "        \"\"\"进行加窗互相关，窗口暂时设为整个序列长度，输入为（batch_size, channels, seq_len），输出为（batch_size, channels*（2*maxlag+1），1）\n",
    "        \"\"\"\n",
    "        batch_size, channels, seq_len, slices = x.size()\n",
    "        xcorr_slices = torch.empty(batch_size, channels * (2 * self.maxlag + 1), slices, device=x.device)\n",
    "        for i in range(slices):\n",
    "            x_slice = x[:, :, :, i]\n",
    "            # conv1d本身不支持一批输入使用不同卷积内核，因此调整形状，将批量数调整到通道数维度，并行计算\n",
    "            y = x_slice[:, [1, 2, 0], :].reshape((batch_size * channels, 1, seq_len))\n",
    "            x_slice = x_slice.reshape(1, batch_size * channels, seq_len)\n",
    "            # 以padding设置互相关计算的最大时延限制，减少计算量\n",
    "            xcorr = nn.functional.conv1d(x_slice, y, groups=batch_size * channels, padding=self.maxlag)  # shape: (1, batch_size * channels, 2*maxlag+1)\n",
    "            xcorr = xcorr.reshape(batch_size, channels, 2 * self.maxlag + 1)\n",
    "            max_vals, _ = torch.max(xcorr, dim=2, keepdim=True)\n",
    "            xcorr = xcorr / max_vals  # 归一化时每组互相关分别归一化\n",
    "            xcorr = xcorr.reshape(batch_size, channels * (2 * self.maxlag + 1))  # 认为通道数为最大时延限制内各阵元两两互相关值数量\n",
    "            xcorr_slices[:, :, i] = xcorr\n",
    "        return xcorr_slices"
   ]
  },
  {
   "cell_type": "code",
   "execution_count": 6,
   "metadata": {},
   "outputs": [],
   "source": [
    "def process_data():\n",
    "    # 封装在函数中便于回收内存\n",
    "    xcorr = Xcorr(maxlag).to('cuda')\n",
    "    class SigArrDataSet(Dataset):\n",
    "        def __init__(self, folder_path):\n",
    "            # folder_path下所有文件的列表\n",
    "            self.folder_path = folder_path\n",
    "            self.filenames = os.listdir(folder_path)\n",
    "\n",
    "        def __len__(self):\n",
    "            return len(self.filenames)\n",
    "\n",
    "        def __getitem__(self, idx):\n",
    "            arr_dict = np.load(f'{self.folder_path}/{self.filenames[idx]}')\n",
    "            data = torch.tensor(arr_dict['snapshots'], dtype=torch.float32)\n",
    "            angles = torch.tensor(arr_dict['angles'], dtype=torch.float32).reshape(1, sample_interval)\n",
    "            return data, angles, self.filenames[idx]\n",
    "\n",
    "\n",
    "    for folder_path in [train_path, val_path]:\n",
    "        if not os.path.exists(f'{folder_path}_xcorr'):\n",
    "            os.makedirs(f'{folder_path}_xcorr')\n",
    "        batch_size = 5\n",
    "        dl = DataLoader(SigArrDataSet(folder_path), batch_size=batch_size, shuffle=False, num_workers=8, drop_last=False)\n",
    "        print('batch ', end='')\n",
    "        for batch, (data_arr, angles_arr, filenames) in enumerate(dl):\n",
    "            xcorr_arr = xcorr(data_arr.to('cuda')).cpu().detach()\n",
    "            # 将角度转为单位向量, 增大标签维度, 减小标签差异\n",
    "            theta_arr = torch.deg2rad(angles_arr)\n",
    "            label_arr = torch.stack([torch.cos(theta_arr), torch.sin(theta_arr)]).squeeze().permute(1,0,2)\n",
    "            for i, filename in enumerate(filenames):\n",
    "                xcorr_data = xcorr_arr[i, ...]\n",
    "                label = label_arr[i, ...]\n",
    "                torch.save({'data': xcorr_data, 'label': label}, f'{folder_path}_xcorr/{filename[:-4]}.pt')\n",
    "            del data_arr, angles_arr, xcorr_arr, theta_arr, label_arr\n",
    "            print(f'{batch},', end='')\n",
    "        print(f'\\n{folder_path} done')\n",
    "\n",
    "# process_data()"
   ]
  },
  {
   "cell_type": "code",
   "execution_count": 7,
   "metadata": {},
   "outputs": [],
   "source": [
    "class FeaturesDataSet(Dataset):\n",
    "    def __init__(self, folder_path):\n",
    "        # folder_path下所有文件的列表\n",
    "        self.filepaths = [f'{folder_path}/{filename}' for filename in os.listdir(folder_path)]\n",
    "\n",
    "    def __len__(self):\n",
    "        return len(self.filepaths)\n",
    "\n",
    "    def __getitem__(self, idx):\n",
    "        tensors = torch.load(self.filepaths[idx])\n",
    "        data = tensors['data']\n",
    "        label = tensors['label']\n",
    "        return data, label\n",
    "\n",
    "ds_train = FeaturesDataSet(train_path + '_xcorr')\n",
    "ds_val = FeaturesDataSet(val_path + '_xcorr')"
   ]
  },
  {
   "cell_type": "markdown",
   "metadata": {},
   "source": [
    "### DataLoader构造"
   ]
  },
  {
   "cell_type": "code",
   "execution_count": 8,
   "metadata": {},
   "outputs": [],
   "source": [
    "batch_size = 400\n",
    "# 取样时有打乱\n",
    "dl_train = DataLoader(ds_train, batch_size=batch_size, shuffle=True, num_workers=4, drop_last=False)\n",
    "dl_val = DataLoader(ds_val, batch_size=batch_size, shuffle=True, num_workers=4, drop_last=False)"
   ]
  },
  {
   "cell_type": "markdown",
   "metadata": {},
   "source": [
    "## 模型定义"
   ]
  },
  {
   "cell_type": "code",
   "execution_count": 9,
   "metadata": {},
   "outputs": [],
   "source": [
    "# 自定义一维因果卷积层\n",
    "class CausalConv1d(nn.Module):\n",
    "    def __init__(self, in_channels, out_channels, kernel_size, dilation=1):\n",
    "        super().__init__()\n",
    "        self.padding = (kernel_size - 1) * dilation\n",
    "        self.conv1d = nn.Conv1d(in_channels, out_channels, kernel_size, padding=self.padding, dilation=dilation)\n",
    "\n",
    "    def forward(self, x):\n",
    "        return self.conv1d(x)[:, :, :x.size(2)]\n",
    "\n",
    "\n",
    "# 自定义一维因果CNN层\n",
    "# NOTE: 由于是CW信号，在有短脉冲的情况下归一化幅度会进一步压平相关峰，因此不使用GCC\n",
    "class CausalCnn1d(nn.Module):\n",
    "    def __init__(self, in_channels):\n",
    "        super().__init__()\n",
    "        in_conv_channels = 1024\n",
    "        mid_conv_channels = 512\n",
    "        out_conv_channels = 128\n",
    "        kernel_size = 5\n",
    "        mid_depth = 4\n",
    "\n",
    "        self.in_layers = nn.Sequential(\n",
    "            CausalConv1d(in_channels, in_conv_channels, kernel_size),\n",
    "            nn.PReLU(in_conv_channels),\n",
    "        )\n",
    "\n",
    "        self.mid_layers = nn.ModuleList([\n",
    "            CausalConv1d(in_conv_channels, mid_conv_channels, kernel_size),\n",
    "            nn.PReLU(mid_conv_channels),\n",
    "        ])\n",
    "        self.mid_layers += nn.ModuleList([\n",
    "            CausalConv1d(mid_conv_channels, mid_conv_channels, kernel_size),\n",
    "            nn.PReLU(mid_conv_channels),\n",
    "        ] * (mid_depth - 1))\n",
    "\n",
    "        self.out_layers = nn.Sequential(\n",
    "            CausalConv1d(mid_conv_channels, out_conv_channels, kernel_size, dilation=2),\n",
    "            nn.PReLU(),\n",
    "            CausalConv1d(out_conv_channels, 2, kernel_size, dilation=2)  # 仅识别平面方位角, 以单位向量形式输出，因此输出通道数为2\n",
    "        )\n",
    "\n",
    "    def forward(self, x):\n",
    "        x = self.in_layers(x)\n",
    "        for layer in self.mid_layers:\n",
    "            x = layer(x)\n",
    "        x = self.out_layers(x)  # shape: (-1, 2, slices)\n",
    "        # x = torch.tanh(x)  # 应当输出的是单位向量, 因此将输出归一化到(-1，1), 简单约束下# FIXME: 改用归一化层\n",
    "        return x\n",
    "\n",
    "\n",
    "class CausalCnn1d_from_Xcorr(nn.Module):\n",
    "    def __init__(self, maxlag, signal_channels, device:str | None = None) -> None:\n",
    "        super().__init__()\n",
    "        self.xcorr = Xcorr(maxlag)\n",
    "        self.cnn = CausalCnn1d(signal_channels * (2 * maxlag + 1))\n",
    "\n",
    "    def forward(self, x):\n",
    "        x = self.xcorr(x)\n",
    "        return self.cnn(x)"
   ]
  },
  {
   "cell_type": "code",
   "execution_count": 10,
   "metadata": {},
   "outputs": [],
   "source": [
    "# from torchkeras import summary\n",
    "# summary(CausalCnn1d_from_Xcorr(maxlag, 3), input_data=list(dl_train)[0][0])"
   ]
  },
  {
   "cell_type": "markdown",
   "metadata": {},
   "source": [
    "## 模型训练"
   ]
  },
  {
   "cell_type": "code",
   "execution_count": 11,
   "metadata": {},
   "outputs": [
    {
     "name": "stdout",
     "output_type": "stream",
     "text": [
      "\u001b[0;31m<<<<<< ⚡️ cuda is used >>>>>>\u001b[0m\n"
     ]
    },
    {
     "data": {
      "image/png": "[encoded data removed]",
      "text/plain": [
       "<Figure size 600x400 with 1 Axes>"
      ]
     },
     "metadata": {},
     "output_type": "display_data"
    },
    {
     "data": {
      "text/html": [
       "\n",
       "<style>\n",
       "    /* background: */\n",
       "    progress::-webkit-progress-bar {background-color: #CDCDCD; width: 100%;}\n",
       "    progress {background-color: #CDCDCD;}\n",
       "\n",
       "    /* value: */\n",
       "    progress::-webkit-progress-value {background-color: #00BFFF  !important;}\n",
       "    progress::-moz-progress-bar {background-color: #00BFFF  !important;}\n",
       "    progress {color: #00BFFF ;}\n",
       "\n",
       "    /* optional */\n",
       "    .progress-bar-interrupted, .progress-bar-interrupted::-webkit-progress-bar {\n",
       "        background: #000000;\n",
       "    }\n",
       "</style>\n"
      ],
      "text/plain": [
       "<IPython.core.display.HTML object>"
      ]
     },
     "metadata": {},
     "output_type": "display_data"
    },
    {
     "data": {
      "text/html": [
       "\n",
       "    <div>\n",
       "      <progress value='11' class='progress-bar-interrupted' max='100' style='width:300px; height:20px; vertical-align: middle;'></progress>\n",
       "      11.00% [11/100] [00:14<02:01]\n",
       "      <br>\n",
       "      ████████████████████100.00% [1/1] [val_loss=0.3827, val_L1=0.3827]\n",
       "    </div>\n",
       "    "
      ],
      "text/plain": [
       "<IPython.core.display.HTML object>"
      ]
     },
     "metadata": {},
     "output_type": "display_data"
    },
    {
     "name": "stdout",
     "output_type": "stream",
     "text": [
      "\u001b[0;31m<<<<<< val_L1 without improvement in 5 epoch,early stopping >>>>>> \n",
      "\u001b[0m\n"
     ]
    },
    {
     "data": {
      "text/html": [
       "<div>\n",
       "<style scoped>\n",
       "    .dataframe tbody tr th:only-of-type {\n",
       "        vertical-align: middle;\n",
       "    }\n",
       "\n",
       "    .dataframe tbody tr th {\n",
       "        vertical-align: top;\n",
       "    }\n",
       "\n",
       "    .dataframe thead th {\n",
       "        text-align: right;\n",
       "    }\n",
       "</style>\n",
       "<table border=\"1\" class=\"dataframe\">\n",
       "  <thead>\n",
       "    <tr style=\"text-align: right;\">\n",
       "      <th></th>\n",
       "      <th>epoch</th>\n",
       "      <th>train_loss</th>\n",
       "      <th>train_L1</th>\n",
       "      <th>lr</th>\n",
       "      <th>val_loss</th>\n",
       "      <th>val_L1</th>\n",
       "    </tr>\n",
       "  </thead>\n",
       "  <tbody>\n",
       "    <tr>\n",
       "      <th>0</th>\n",
       "      <td>1</td>\n",
       "      <td>0.504000</td>\n",
       "      <td>0.504000</td>\n",
       "      <td>0.5</td>\n",
       "      <td>0.393785</td>\n",
       "      <td>0.393785</td>\n",
       "    </tr>\n",
       "    <tr>\n",
       "      <th>1</th>\n",
       "      <td>2</td>\n",
       "      <td>0.387952</td>\n",
       "      <td>0.387952</td>\n",
       "      <td>0.5</td>\n",
       "      <td>0.385428</td>\n",
       "      <td>0.385428</td>\n",
       "    </tr>\n",
       "    <tr>\n",
       "      <th>2</th>\n",
       "      <td>3</td>\n",
       "      <td>0.382687</td>\n",
       "      <td>0.382687</td>\n",
       "      <td>0.5</td>\n",
       "      <td>0.383849</td>\n",
       "      <td>0.383849</td>\n",
       "    </tr>\n",
       "    <tr>\n",
       "      <th>3</th>\n",
       "      <td>4</td>\n",
       "      <td>0.381726</td>\n",
       "      <td>0.381726</td>\n",
       "      <td>0.5</td>\n",
       "      <td>0.383420</td>\n",
       "      <td>0.383420</td>\n",
       "    </tr>\n",
       "    <tr>\n",
       "      <th>4</th>\n",
       "      <td>5</td>\n",
       "      <td>0.381656</td>\n",
       "      <td>0.381656</td>\n",
       "      <td>0.5</td>\n",
       "      <td>0.382958</td>\n",
       "      <td>0.382958</td>\n",
       "    </tr>\n",
       "    <tr>\n",
       "      <th>5</th>\n",
       "      <td>6</td>\n",
       "      <td>0.381603</td>\n",
       "      <td>0.381603</td>\n",
       "      <td>0.5</td>\n",
       "      <td>0.382274</td>\n",
       "      <td>0.382274</td>\n",
       "    </tr>\n",
       "    <tr>\n",
       "      <th>6</th>\n",
       "      <td>7</td>\n",
       "      <td>0.381349</td>\n",
       "      <td>0.381349</td>\n",
       "      <td>0.5</td>\n",
       "      <td>0.383380</td>\n",
       "      <td>0.383380</td>\n",
       "    </tr>\n",
       "    <tr>\n",
       "      <th>7</th>\n",
       "      <td>8</td>\n",
       "      <td>0.381274</td>\n",
       "      <td>0.381274</td>\n",
       "      <td>0.5</td>\n",
       "      <td>0.382528</td>\n",
       "      <td>0.382528</td>\n",
       "    </tr>\n",
       "    <tr>\n",
       "      <th>8</th>\n",
       "      <td>9</td>\n",
       "      <td>0.381123</td>\n",
       "      <td>0.381123</td>\n",
       "      <td>0.5</td>\n",
       "      <td>0.382345</td>\n",
       "      <td>0.382345</td>\n",
       "    </tr>\n",
       "    <tr>\n",
       "      <th>9</th>\n",
       "      <td>10</td>\n",
       "      <td>0.381022</td>\n",
       "      <td>0.381022</td>\n",
       "      <td>0.5</td>\n",
       "      <td>0.383037</td>\n",
       "      <td>0.383037</td>\n",
       "    </tr>\n",
       "    <tr>\n",
       "      <th>10</th>\n",
       "      <td>11</td>\n",
       "      <td>0.380958</td>\n",
       "      <td>0.380958</td>\n",
       "      <td>0.5</td>\n",
       "      <td>0.382650</td>\n",
       "      <td>0.382650</td>\n",
       "    </tr>\n",
       "  </tbody>\n",
       "</table>\n",
       "</div>"
      ],
      "text/plain": [
       "    epoch  train_loss  train_L1   lr  val_loss    val_L1\n",
       "0       1    0.504000  0.504000  0.5  0.393785  0.393785\n",
       "1       2    0.387952  0.387952  0.5  0.385428  0.385428\n",
       "2       3    0.382687  0.382687  0.5  0.383849  0.383849\n",
       "3       4    0.381726  0.381726  0.5  0.383420  0.383420\n",
       "4       5    0.381656  0.381656  0.5  0.382958  0.382958\n",
       "5       6    0.381603  0.381603  0.5  0.382274  0.382274\n",
       "6       7    0.381349  0.381349  0.5  0.383380  0.383380\n",
       "7       8    0.381274  0.381274  0.5  0.382528  0.382528\n",
       "8       9    0.381123  0.381123  0.5  0.382345  0.382345\n",
       "9      10    0.381022  0.381022  0.5  0.383037  0.383037\n",
       "10     11    0.380958  0.380958  0.5  0.382650  0.382650"
      ]
     },
     "execution_count": 11,
     "metadata": {},
     "output_type": "execute_result"
    }
   ],
   "source": [
    "def init_weights(m):\n",
    "    if type(m) == torch.nn.Linear:\n",
    "        torch.nn.init.normal_(m.weight)\n",
    "        m.bias.data.fill_(0.0)\n",
    "\n",
    "net = CausalCnn1d(3 * (2 * maxlag + 1))\n",
    "net.apply(init_weights)  # 初始化权重为全零\n",
    "\n",
    "\n",
    "optimizer=optim.SGD(net.parameters(), lr=5e-1)  # TODO: 试试Adam\n",
    "lr_scheduler = torch.optim.lr_scheduler.StepLR(optimizer, step_size=20, gamma=0.1)\n",
    "\n",
    "model = KerasModel(\n",
    "    net,\n",
    "    # loss_fn=loss_with_regulation,\n",
    "    loss_fn=nn.L1Loss(),\n",
    "    # loss_fn=nn.MSELoss(),\n",
    "    metrics_dict={'L1': torchmetrics.MeanAbsoluteError()},#, 'mse': torchmetrics.MeanSquaredError()},\n",
    "    optimizer=optimizer,\n",
    "    # lr_scheduler=lr_scheduler\n",
    ")\n",
    "\n",
    "model.fit(\n",
    "    dl_train,\n",
    "    dl_val,\n",
    "    epochs=100,\n",
    "    ckpt_path='exp/checkpoint',\n",
    "    patience=5,\n",
    "    monitor='val_L1',\n",
    "    mode='min',\n",
    ")"
   ]
  },
  {
   "cell_type": "markdown",
   "metadata": {},
   "source": [
    "## 模型评估"
   ]
  },
  {
   "cell_type": "code",
   "execution_count": 35,
   "metadata": {},
   "outputs": [
    {
     "data": {
      "image/png": "[encoded data removed]",
      "text/plain": [
       "<Figure size 640x480 with 1 Axes>"
      ]
     },
     "metadata": {},
     "output_type": "display_data"
    }
   ],
   "source": [
    "device = torch.device('cuda')\n",
    "net = model.net\n",
    "net.eval()\n",
    "\n",
    "net.to(device)\n",
    "data, label = FeaturesDataSet(val_path + '_xcorr')[np.random.randint(0, 400)]\n",
    "data = data.to(device)\n",
    "output = net(data.unsqueeze(0))\n",
    "predicted = output.detach().cpu().numpy()\n",
    "label = label.cpu().numpy()\n",
    "# predicted = (predicted + 1) * 90\n",
    "# label = (label + 1) * 90\n",
    "predicted_angles = np.rad2deg(np.arctan2(predicted[0, 1, :], predicted[0, 0, :]))\n",
    "label_angles = np.rad2deg(np.arctan2(label[1], label[0]))\n",
    "plt.plot(label_angles, predicted_angles, '.')\n",
    "# plt.plot([np.min(np.stack((label_angles, predicted_angles))), np.max(np.stack((label_angles, predicted_angles)))], [np.min(np.stack((label_angles, predicted_angles))), np.max(np.stack((label_angles, predicted_angles)))], 'r')\n",
    "plt.plot([0, 180], [0, 180], 'white')\n",
    "plt.plot([0, 180], [90, 90], 'red')\n",
    "\n",
    "plt.xlabel('real azimuth angle')\n",
    "plt.ylabel('predicted azimuth angle')\n",
    "plt.xticks(np.arange(0, 190, 10))\n",
    "plt.yticks(np.arange(0, 190, 10))\n",
    "plt.grid(True, which='major', color='gray', linestyle='--', linewidth=0.5)"
   ]
  },
  {
   "cell_type": "code",
   "execution_count": 11,
   "metadata": {},
   "outputs": [
    {
     "data": {
      "text/plain": [
       "((1, 2, 20), (2, 20))"
      ]
     },
     "execution_count": 11,
     "metadata": {},
     "output_type": "execute_result"
    }
   ],
   "source": [
    "predicted.shape, label.shape"
   ]
  },
  {
   "cell_type": "markdown",
   "metadata": {},
   "source": [
    "## 预测"
   ]
  }
 ],
 "metadata": {
  "kernelspec": {
   "display_name": "torch",
   "language": "python",
   "name": "python3"
  },
  "language_info": {
   "codemirror_mode": {
    "name": "ipython",
    "version": 3
   },
   "file_extension": ".py",
   "mimetype": "text/x-python",
   "name": "python",
   "nbconvert_exporter": "python",
   "pygments_lexer": "ipython3",
   "version": "3.11.8"
  }
 },
 "nbformat": 4,
 "nbformat_minor": 2
}
